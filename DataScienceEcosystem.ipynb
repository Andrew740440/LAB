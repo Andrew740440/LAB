{
 "cells": [
  {
   "cell_type": "markdown",
   "id": "5f24312f-27f3-4167-9ed9-4bacc4bb29ae",
   "metadata": {},
   "source": [
    "# Data Science Tools and Ecosystem"
   ]
  },
  {
   "cell_type": "markdown",
   "id": "5bfc3466-ae90-4263-8951-eac2a24c36a9",
   "metadata": {},
   "source": [
    "In this notebook, Data Science Tools and Ecosystem are summarized."
   ]
  },
  {
   "cell_type": "markdown",
   "id": "596430ff-72ed-4c00-97bd-abf8a15b6c92",
   "metadata": {},
   "source": [
    "**Objective:**\n",
    "* Popular data science languages\n",
    "* Data science libraries\n",
    "* Data Science tools for development(open source) \n",
    "* Arithmetics operations in python"
   ]
  },
  {
   "cell_type": "markdown",
   "id": "581239c5-0353-4489-952b-dd6afa9c545e",
   "metadata": {},
   "source": [
    "Some of the popular languages that Data Scientists use are:\n",
    "1. Python\n",
    "2. R\n",
    "3. SQL\n",
    "4. java\n",
    "6. Scala"
   ]
  },
  {
   "cell_type": "markdown",
   "id": "73955cb4-ca3a-4638-9a70-e6d3bab250f7",
   "metadata": {},
   "source": [
    "Some of the commonly used libraries used by Data Scientists include:\n",
    "1. Pandas\n",
    "2. Numpy\n",
    "3. Seaborn\n",
    "4. Matplotlib"
   ]
  },
  {
   "cell_type": "markdown",
   "id": "f429fc63-333b-4916-9763-2460eab8a7c4",
   "metadata": {},
   "source": [
    "| Data Science Tools |\n",
    "|-------------|\n",
    "| Jupyter Notebook |\n",
    "| GitHub     |\n",
    "| Rstudio    |"
   ]
  },
  {
   "cell_type": "markdown",
   "id": "48c41840-1216-4b0b-9a36-fd0682090b2c",
   "metadata": {},
   "source": [
    "### Below are a few examples of evaluating arithmetic expressions in Python:"
   ]
  },
  {
   "cell_type": "code",
   "execution_count": 2,
   "id": "5015ce9a-9db9-4811-914d-46e97cd5d5dc",
   "metadata": {},
   "outputs": [
    {
     "data": {
      "text/plain": [
       "17"
      ]
     },
     "execution_count": 2,
     "metadata": {},
     "output_type": "execute_result"
    }
   ],
   "source": [
    "# This a simple arithmetic expression to mutiply then add integers\n",
    "(3*4)+5"
   ]
  },
  {
   "cell_type": "code",
   "execution_count": 3,
   "id": "1724527e-8f6b-4b56-9791-208673725a0d",
   "metadata": {},
   "outputs": [
    {
     "data": {
      "text/plain": [
       "3.3333333333333335"
      ]
     },
     "execution_count": 3,
     "metadata": {},
     "output_type": "execute_result"
    }
   ],
   "source": [
    "# This will convert 200 minutes to hours by diving by 60\n",
    "200/60"
   ]
  },
  {
   "cell_type": "markdown",
   "id": "db581b71-378b-48c3-9f3c-6906803e4580",
   "metadata": {},
   "source": [
    "## Author\n",
    "Lofor Andrew"
   ]
  },
  {
   "cell_type": "code",
   "execution_count": null,
   "id": "e326eb99-e9e7-4c69-9719-75fe258f626c",
   "metadata": {},
   "outputs": [],
   "source": []
  }
 ],
 "metadata": {
  "kernelspec": {
   "display_name": "Python 3 (ipykernel)",
   "language": "python",
   "name": "python3"
  },
  "language_info": {
   "codemirror_mode": {
    "name": "ipython",
    "version": 3
   },
   "file_extension": ".py",
   "mimetype": "text/x-python",
   "name": "python",
   "nbconvert_exporter": "python",
   "pygments_lexer": "ipython3",
   "version": "3.11.7"
  }
 },
 "nbformat": 4,
 "nbformat_minor": 5
}
